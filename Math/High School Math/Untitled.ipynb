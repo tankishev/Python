{
 "cells": [
  {
   "cell_type": "markdown",
   "id": "8cd6b65e",
   "metadata": {},
   "source": [
    "Steps:\n",
    "1) Generate plane field\n",
    "2) Generate a dot\n",
    "3) Generate noise\n",
    "4) Generate dot movement\n",
    "3) Multiply number of dots"
   ]
  },
  {
   "cell_type": "markdown",
   "id": "a5569d3c",
   "metadata": {},
   "source": [
    "1) Generate vector seed function"
   ]
  },
  {
   "cell_type": "code",
   "execution_count": null,
   "id": "199d531e",
   "metadata": {},
   "outputs": [],
   "source": [
    "import numpy as np"
   ]
  },
  {
   "cell_type": "code",
   "execution_count": null,
   "id": "0f9ea8a6",
   "metadata": {},
   "outputs": [],
   "source": [
    "def get_grid():\n",
    "    seed_values = ()"
   ]
  }
 ],
 "metadata": {
  "kernelspec": {
   "display_name": "Python 3 (ipykernel)",
   "language": "python",
   "name": "python3"
  },
  "language_info": {
   "codemirror_mode": {
    "name": "ipython",
    "version": 3
   },
   "file_extension": ".py",
   "mimetype": "text/x-python",
   "name": "python",
   "nbconvert_exporter": "python",
   "pygments_lexer": "ipython3",
   "version": "3.8.12"
  }
 },
 "nbformat": 4,
 "nbformat_minor": 5
}
